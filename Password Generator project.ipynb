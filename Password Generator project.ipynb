{
 "cells": [
  {
   "cell_type": "code",
   "execution_count": 2,
   "id": "d471fbd5",
   "metadata": {},
   "outputs": [
    {
     "name": "stdout",
     "output_type": "stream",
     "text": [
      "Enter Password Length: 5\n",
      "Your Password: 94m#C\n"
     ]
    }
   ],
   "source": [
    "import random\n",
    "import math\n",
    "\n",
    "alphas = \"abcdefghijklmnopqrstuvwxyz\"\n",
    "nums = \"0123456789\"\n",
    "char_ = \"@#$%&*\"\n",
    "\n",
    "# Get password length from user\n",
    "pass_len = int(input(\"Enter Password Length: \"))\n",
    "\n",
    "# Calculate lengths of each part of the password\n",
    "alphas_len = pass_len // 2\n",
    "nums_len = math.ceil(pass_len * 0.3)  # 30% of password length\n",
    "char_len = pass_len - (alphas_len + nums_len)\n",
    "\n",
    "# Generate password characters\n",
    "password_chars = []\n",
    "\n",
    "# Function to generate characters for the password\n",
    "def generate_password(length, charset, is_alpha=False):\n",
    "    for _ in range(length):\n",
    "        char = random.choice(charset)\n",
    "        if is_alpha:\n",
    "            char = random.choice([char.upper(), char.lower()])\n",
    "        password_chars.append(char)\n",
    "\n",
    "# Generate alphabetic characters\n",
    "generate_password(alphas_len, alphas, True)\n",
    "# Generate numeric characters\n",
    "generate_password(nums_len, nums)\n",
    "# Generate special characters\n",
    "generate_password(char_len, char_)\n",
    "\n",
    "# Shuffle the password characters\n",
    "random.shuffle(password_chars)\n",
    "\n",
    "# Concatenate password characters to form the final password\n",
    "password = ''.join(password_chars)\n",
    "\n",
    "# Print the generated password\n",
    "print(\"Your Password:\", password)\n"
   ]
  },
  {
   "cell_type": "markdown",
   "id": "2d3781fc",
   "metadata": {},
   "source": []
  }
 ],
 "metadata": {
  "kernelspec": {
   "display_name": "Python 3 (ipykernel)",
   "language": "python",
   "name": "python3"
  },
  "language_info": {
   "codemirror_mode": {
    "name": "ipython",
    "version": 3
   },
   "file_extension": ".py",
   "mimetype": "text/x-python",
   "name": "python",
   "nbconvert_exporter": "python",
   "pygments_lexer": "ipython3",
   "version": "3.11.5"
  }
 },
 "nbformat": 4,
 "nbformat_minor": 5
}
